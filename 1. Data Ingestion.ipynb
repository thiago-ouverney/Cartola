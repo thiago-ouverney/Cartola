{
 "cells": [
  {
   "cell_type": "markdown",
   "id": "fe21ce4c",
   "metadata": {},
   "source": [
    "# ETL"
   ]
  },
  {
   "cell_type": "markdown",
   "id": "785f8db4",
   "metadata": {},
   "source": [
    "We need to extract our information from Cartolafc oficial API, we are using those links for further reference:\n",
    "\n",
    "\n",
    "1. [Devs Community](https://gitter.im/cartrolandofc/dev)\n",
    "2. [Non Official Github](https://github.com/wgenial/cartrolandofc/blob/master/nova-api.md)\n"
   ]
  },
  {
   "cell_type": "code",
   "execution_count": 40,
   "id": "071d4af4",
   "metadata": {},
   "outputs": [],
   "source": [
    "import requests\n",
    "\n",
    "\n",
    "def get_base_atleta(rodada:int) -> dict:\n",
    "    \"\"\"\n",
    "    Essa função nos retornará a base de atletas para determinada rodada\n",
    "    \"\"\"\n",
    "    f = requests.get(f\"https://api.cartolafc.globo.com/atletas/pontuados/{str(rodada)}\")\n",
    "    data = f.json()\n",
    "    return data"
   ]
  },
  {
   "cell_type": "code",
   "execution_count": 90,
   "id": "833d26c9",
   "metadata": {},
   "outputs": [],
   "source": [
    "?data"
   ]
  },
  {
   "cell_type": "markdown",
   "id": "86e2d553",
   "metadata": {},
   "source": [
    "We need to separate our process into 4 points (Atllta, Club, Posições, Rodada e Total_Atleta)\n",
    "\n",
    "We'll undestand then one per time."
   ]
  },
  {
   "cell_type": "code",
   "execution_count": 54,
   "id": "2b829cbd",
   "metadata": {},
   "outputs": [
    {
     "data": {
      "text/plain": [
       "dict_keys(['atletas', 'clubes', 'posicoes', 'rodada', 'total_atletas'])"
      ]
     },
     "execution_count": 54,
     "metadata": {},
     "output_type": "execute_result"
    }
   ],
   "source": [
    "data = get_base_atleta(1)\n",
    "\n",
    "data.keys()"
   ]
  },
  {
   "cell_type": "markdown",
   "id": "47e86c1a",
   "metadata": {},
   "source": [
    "## Atletas"
   ]
  },
  {
   "cell_type": "raw",
   "id": "34b306b8",
   "metadata": {},
   "source": [
    "Iremos entender melhor nossa base de atletas"
   ]
  },
  {
   "cell_type": "code",
   "execution_count": 34,
   "id": "93b7b528",
   "metadata": {},
   "outputs": [
    {
     "data": {
      "text/plain": [
       "dict_keys(['100079', '100103', '100652', '100763', '100844', '100846', '100848', '100943', '100969', '100987', '101054', '101077', '101314', '101422', '101431', '101573', '101595', '101708', '101715', '101717', '101729', '101798', '101960', '102292', '102299', '102302', '102318', '102330', '102352', '102878', '103099', '103295', '103445', '103695', '103912', '104075', '104125', '104127', '104250', '104257', '104401', '104459', '104519', '104649', '104754', '105294', '105584', '105585', '105811', '105840', '105901', '105902', '106002', '106047', '106305', '106822', '106843', '107110', '107172', '107744', '107745', '107754', '107759', '107991', '108176', '108201', '108713', '109282', '109497', '109573', '109963', '110415', '110506', '110607', '110633', '110745', '110760', '110948', '111333', '111547', '111578', '111695', '111829', '37245', '38133', '38141', '38162', '38229', '38277', '38279', '38315', '38394', '38545', '38877', '38913', '39148', '42116', '42145', '42234', '42411', '42500', '50353', '50645', '51413', '52253', '53148', '56102', '60825', '60852', '60969', '61033', '61149', '61188', '62086', '62129', '63110', '63172', '63289', '68690', '68727', '68770', '68832', '68872', '68923', '68952', '69012', '69014', '69054', '69214', '69705', '70666', '70784', '70925', '70986', '71162', '71571', '71691', '71844', '72007', '72018', '72290', '72294', '72362', '72372', '72389', '72391', '72580', '72588', '72772', '73384', '73465', '73620', '73896', '73974', '73975', '74159', '77544', '77570', '77774', '78077', '78548', '78580', '78605', '78715', '78850', '78851', '78856', '78867', '78991', '79035', '79113', '79437', '80076', '80196', '80281', '80287', '80664', '80692', '81031', '81091', '81150', '81585', '81776', '81798', '81898', '81952', '82381', '82407', '82455', '82564', '82628', '82634', '82640', '82764', '82792', '82943', '83048', '83266', '83433', '83817', '84428', '84523', '84674', '84817', '84847', '85004', '85315', '85586', '85626', '85931', '86264', '86388', '86410', '86686', '86711', '86759', '86770', '86841', '86863', '86864', '86970', '87098', '87262', '87393', '87402', '87470', '87679', '87747', '87929', '87999', '88423', '88544', '88597', '89343', '89493', '90061', '90264', '90309', '90444', '90590', '90700', '90901', '90917', '91130', '91203', '91521', '91607', '91639', '91689', '91733', '91783', '91856', '91866', '92146', '92180', '92193', '92696', '93653', '93790', '93797', '94044', '94068', '94138', '94288', '94444', '94509', '94894', '94916', '95127', '95335', '95466', '95638', '95794', '95799', '96342', '96652', '96684', '96725', '97133', '97245', '97317', '97321', '97341', '97450', '97520', '97537', '97867', '97899', '98034', '98057', '98274', '98412', '98419', '98740', '98909', '98945', '98952', '99151', '99440'])"
      ]
     },
     "execution_count": 34,
     "metadata": {},
     "output_type": "execute_result"
    }
   ],
   "source": [
    "data['atletas'].keys()"
   ]
  },
  {
   "cell_type": "code",
   "execution_count": 215,
   "id": "593c98f1",
   "metadata": {},
   "outputs": [
    {
     "data": {
      "text/plain": [
       "{'scout': {'FC': 1, 'FS': 1},\n",
       " 'apelido': 'Zaracho',\n",
       " 'foto': 'https://s.glbimg.com/es/sde/f/2021/04/23/ccb1d73771f04699045f78f794f4481d_FORMATO.png',\n",
       " 'pontuacao': 0,\n",
       " 'posicao_id': 4,\n",
       " 'clube_id': 282,\n",
       " 'entrou_em_campo': True}"
      ]
     },
     "execution_count": 215,
     "metadata": {},
     "output_type": "execute_result"
    }
   ],
   "source": [
    "data['atletas']['100079']"
   ]
  },
  {
   "cell_type": "markdown",
   "id": "bf1f2b8a",
   "metadata": {},
   "source": [
    "Quantos atletas estamos trabalhando?; "
   ]
  },
  {
   "cell_type": "code",
   "execution_count": 53,
   "id": "d3c8ea73",
   "metadata": {},
   "outputs": [
    {
     "name": "stdout",
     "output_type": "stream",
     "text": [
      "330\n",
      "299\n",
      "296\n",
      "295\n"
     ]
    }
   ],
   "source": [
    "for i in range(1,5):\n",
    "    base = get_base_atleta(i)\n",
    "    print(len(base['atletas'].keys()))"
   ]
  },
  {
   "cell_type": "markdown",
   "id": "6d64ae3f",
   "metadata": {},
   "source": [
    "Vimos que, para rodadas distintas, temos quantidade distintas de atletas na base, provavelmente por 2 possíveis motivos.\n",
    "\n",
    "* Nossa base só nos mostra atletas que tiveram alguma pontuação\n",
    "* Nossa base mostra todos atletas ativos, mas temos situações de atletas que saem e entram durante o campeonato"
   ]
  },
  {
   "cell_type": "code",
   "execution_count": 71,
   "id": "5895a067",
   "metadata": {},
   "outputs": [
    {
     "name": "stdout",
     "output_type": "stream",
     "text": [
      "['105901', '107759', '71844', '97341', '98057']\n"
     ]
    }
   ],
   "source": [
    "base  = get_base_atleta(2)\n",
    "atletas_sem_jogar = []\n",
    "\n",
    "while True:\n",
    "    for atleta in list(base['atletas'].keys()):\n",
    "        ref_entrou_em_campo =  base['atletas'][atleta]['entrou_em_campo']\n",
    "        if ref_entrou_em_campo == False: \n",
    "            atletas_sem_jogar.append(atleta)\n",
    "            if len(atletas_sem_jogar) == 10:\n",
    "                break\n",
    "    break\n",
    "print(atletas_sem_jogar)"
   ]
  },
  {
   "cell_type": "markdown",
   "id": "06ac913c",
   "metadata": {},
   "source": [
    "Percebemos que nossa base só mostra jogadores que essencialmente jogaram, ou entraram em campo, ou pontuaram por ter algum scout mesmo ainda no banco, casos que o jogador levou um cartão mesmo no banco"
   ]
  },
  {
   "cell_type": "code",
   "execution_count": 76,
   "id": "31703880",
   "metadata": {},
   "outputs": [
    {
     "data": {
      "text/plain": [
       "{'scout': {'CA': 1},\n",
       " 'apelido': 'Edson',\n",
       " 'foto': 'https://s.glbimg.com/es/sde/f/2021/04/19/8d94dd065da412fdee0c826a793a5eed_FORMATO.png',\n",
       " 'pontuacao': -2,\n",
       " 'posicao_id': 4,\n",
       " 'clube_id': 265,\n",
       " 'entrou_em_campo': False}"
      ]
     },
     "execution_count": 76,
     "metadata": {},
     "output_type": "execute_result"
    }
   ],
   "source": [
    "base['atletas']['105901']"
   ]
  },
  {
   "attachments": {
    "image-2.png": {
     "image/png": "[encoded data removed]"
    }
   },
   "cell_type": "markdown",
   "id": "9778f311",
   "metadata": {},
   "source": [
    "* Exemplo Edson rodada 2, Bragantino vs Bahia\n",
    "\n",
    "![image-2.png](attachment:image-2.png)"
   ]
  },
  {
   "cell_type": "code",
   "execution_count": 78,
   "id": "2f8cdc1a",
   "metadata": {},
   "outputs": [
    {
     "data": {
      "text/plain": [
       "{'scout': None,\n",
       " 'apelido': 'Rogério Ceni',\n",
       " 'foto': 'https://s.glbimg.com/es/sde/f/2020/11/09/8879b35c72aef797d229636dbdf3dd4f_FORMATO.png',\n",
       " 'pontuacao': 0,\n",
       " 'posicao_id': 6,\n",
       " 'clube_id': 262,\n",
       " 'entrou_em_campo': False}"
      ]
     },
     "execution_count": 78,
     "metadata": {},
     "output_type": "execute_result"
    }
   ],
   "source": [
    "base['atletas']['97341']"
   ]
  },
  {
   "cell_type": "code",
   "execution_count": 19,
   "id": "dfe07cb1",
   "metadata": {},
   "outputs": [
    {
     "data": {
      "text/plain": [
       "{'scout': {'FC': 1, 'FS': 1},\n",
       " 'apelido': 'Zaracho',\n",
       " 'foto': 'https://s.glbimg.com/es/sde/f/2021/04/23/ccb1d73771f04699045f78f794f4481d_FORMATO.png',\n",
       " 'pontuacao': 0,\n",
       " 'posicao_id': 4,\n",
       " 'clube_id': 282,\n",
       " 'entrou_em_campo': True}"
      ]
     },
     "execution_count": 19,
     "metadata": {},
     "output_type": "execute_result"
    }
   ],
   "source": [
    "data['atletas']['100079']"
   ]
  },
  {
   "cell_type": "code",
   "execution_count": 112,
   "id": "b41505f4",
   "metadata": {},
   "outputs": [
    {
     "data": {
      "text/plain": [
       "dict_keys(['scout', 'apelido', 'foto', 'pontuacao', 'posicao_id', 'clube_id', 'entrou_em_campo'])"
      ]
     },
     "execution_count": 112,
     "metadata": {},
     "output_type": "execute_result"
    }
   ],
   "source": [
    "data['atletas']['100079'].keys()"
   ]
  },
  {
   "cell_type": "code",
   "execution_count": 275,
   "id": "07d2d19a",
   "metadata": {},
   "outputs": [],
   "source": [
    "#Gerando base como dicionário vazio a ser preenchido\n",
    "\n",
    "#Gerando lista de possíveis scouts::::\n",
    "def get_colunas_scout(data:dict) -> list:\n",
    "    id_atletas = list(data['atletas'].keys())\n",
    "    colunas_scouts = []\n",
    "    for id in id_atletas:\n",
    "        if data['atletas'][id]['scout']:   #Se existe scout\n",
    "            for scout in data['atletas'][id]['scout'].keys(): #para cada scout do atleta\n",
    "                if scout not in colunas_scouts:\n",
    "                    colunas_scouts.append(scout)\n",
    "    return colunas_scouts\n",
    "    \n",
    "def get_dataframe_atletas(rodada_atual:int) -> pd.DataFrame:\n",
    "    #Where the magic begins\n",
    "\n",
    "    # Definindo minhas colunas a serem utilizadas\n",
    "    data_1_rodada = get_base_atleta(1) #Estamos considerando que todos os scouts necessários estarão sendo mapeados desde a 1 rodada.\n",
    "    colunas_scouts = get_colunas_scout(data_1_rodada)\n",
    "    colunas_base = [\"rodada\",\"apelido\",'atleta_id','posicao_id',\"clube_id\",\"entrou_em_campo\",\"pontuacao\"]\n",
    "    base = dict()\n",
    "    colunas_final = colunas_base + colunas_scouts\n",
    "    for coluna in colunas_final:\n",
    "        base[coluna] = []\n",
    "    \n",
    "    #Gerando para nossa rodada atual \n",
    "    data = get_base_atleta(rodada_atual)\n",
    "    id_atletas = list(data['atletas'].keys())\n",
    "    for id in id_atletas:\n",
    "        for coluna in colunas_final:  \n",
    "            if coluna == 'rodada':\n",
    "                base['rodada'].append(rodada_atual)\n",
    "            elif coluna == 'atleta_id':\n",
    "                base['atleta_id'].append(id)\n",
    "            elif coluna in colunas_scouts:\n",
    "                if data['atletas'][id]['scout']:\n",
    "                    if coluna in data['atletas'][id]['scout'].keys():\n",
    "                        base[coluna].append(data['atletas'][id]['scout'][coluna])\n",
    "                    else:\n",
    "                        base[coluna].append(0)\n",
    "                else:\n",
    "                    base[coluna].append(0)\n",
    "            else:\n",
    "                base[coluna].append(data['atletas'][id][coluna])\n",
    "    return pd.DataFrame(base)\n",
    "\n",
    "#print(base)"
   ]
  },
  {
   "cell_type": "markdown",
   "id": "e9a120af",
   "metadata": {},
   "source": [
    "Conseguimos gerar nossa base de Jogadores e suas pontuações parametrizado pela coluna de ref."
   ]
  },
  {
   "cell_type": "code",
   "execution_count": 276,
   "id": "939e2361",
   "metadata": {},
   "outputs": [
    {
     "data": {
      "text/html": [
       "<div>\n",
       "<style scoped>\n",
       "    .dataframe tbody tr th:only-of-type {\n",
       "        vertical-align: middle;\n",
       "    }\n",
       "\n",
       "    .dataframe tbody tr th {\n",
       "        vertical-align: top;\n",
       "    }\n",
       "\n",
       "    .dataframe thead th {\n",
       "        text-align: right;\n",
       "    }\n",
       "</style>\n",
       "<table border=\"1\" class=\"dataframe\">\n",
       "  <thead>\n",
       "    <tr style=\"text-align: right;\">\n",
       "      <th></th>\n",
       "      <th>rodada</th>\n",
       "      <th>apelido</th>\n",
       "      <th>atleta_id</th>\n",
       "      <th>posicao_id</th>\n",
       "      <th>clube_id</th>\n",
       "      <th>entrou_em_campo</th>\n",
       "      <th>pontuacao</th>\n",
       "      <th>FC</th>\n",
       "      <th>FS</th>\n",
       "      <th>PI</th>\n",
       "      <th>...</th>\n",
       "      <th>FD</th>\n",
       "      <th>SG</th>\n",
       "      <th>CA</th>\n",
       "      <th>FT</th>\n",
       "      <th>G</th>\n",
       "      <th>PC</th>\n",
       "      <th>PS</th>\n",
       "      <th>PP</th>\n",
       "      <th>I</th>\n",
       "      <th>DP</th>\n",
       "    </tr>\n",
       "  </thead>\n",
       "  <tbody>\n",
       "    <tr>\n",
       "      <th>297</th>\n",
       "      <td>15</td>\n",
       "      <td>Jean Pyerre</td>\n",
       "      <td>98832</td>\n",
       "      <td>4</td>\n",
       "      <td>284</td>\n",
       "      <td>True</td>\n",
       "      <td>-0.4</td>\n",
       "      <td>2</td>\n",
       "      <td>1</td>\n",
       "      <td>9</td>\n",
       "      <td>...</td>\n",
       "      <td>0</td>\n",
       "      <td>0</td>\n",
       "      <td>0</td>\n",
       "      <td>0</td>\n",
       "      <td>0</td>\n",
       "      <td>0</td>\n",
       "      <td>0</td>\n",
       "      <td>0</td>\n",
       "      <td>0</td>\n",
       "      <td>0</td>\n",
       "    </tr>\n",
       "    <tr>\n",
       "      <th>298</th>\n",
       "      <td>15</td>\n",
       "      <td>Derlan</td>\n",
       "      <td>98945</td>\n",
       "      <td>3</td>\n",
       "      <td>315</td>\n",
       "      <td>True</td>\n",
       "      <td>-3.3</td>\n",
       "      <td>0</td>\n",
       "      <td>0</td>\n",
       "      <td>3</td>\n",
       "      <td>...</td>\n",
       "      <td>0</td>\n",
       "      <td>0</td>\n",
       "      <td>1</td>\n",
       "      <td>0</td>\n",
       "      <td>0</td>\n",
       "      <td>1</td>\n",
       "      <td>0</td>\n",
       "      <td>0</td>\n",
       "      <td>0</td>\n",
       "      <td>0</td>\n",
       "    </tr>\n",
       "    <tr>\n",
       "      <th>299</th>\n",
       "      <td>15</td>\n",
       "      <td>Lucas Braga</td>\n",
       "      <td>99119</td>\n",
       "      <td>5</td>\n",
       "      <td>277</td>\n",
       "      <td>True</td>\n",
       "      <td>-0.7</td>\n",
       "      <td>2</td>\n",
       "      <td>1</td>\n",
       "      <td>7</td>\n",
       "      <td>...</td>\n",
       "      <td>0</td>\n",
       "      <td>0</td>\n",
       "      <td>0</td>\n",
       "      <td>0</td>\n",
       "      <td>0</td>\n",
       "      <td>0</td>\n",
       "      <td>0</td>\n",
       "      <td>0</td>\n",
       "      <td>1</td>\n",
       "      <td>0</td>\n",
       "    </tr>\n",
       "    <tr>\n",
       "      <th>300</th>\n",
       "      <td>15</td>\n",
       "      <td>Michael</td>\n",
       "      <td>99392</td>\n",
       "      <td>5</td>\n",
       "      <td>262</td>\n",
       "      <td>True</td>\n",
       "      <td>1.7</td>\n",
       "      <td>0</td>\n",
       "      <td>0</td>\n",
       "      <td>3</td>\n",
       "      <td>...</td>\n",
       "      <td>1</td>\n",
       "      <td>0</td>\n",
       "      <td>0</td>\n",
       "      <td>0</td>\n",
       "      <td>0</td>\n",
       "      <td>0</td>\n",
       "      <td>0</td>\n",
       "      <td>0</td>\n",
       "      <td>0</td>\n",
       "      <td>0</td>\n",
       "    </tr>\n",
       "    <tr>\n",
       "      <th>301</th>\n",
       "      <td>15</td>\n",
       "      <td>Baralhas</td>\n",
       "      <td>99440</td>\n",
       "      <td>4</td>\n",
       "      <td>373</td>\n",
       "      <td>True</td>\n",
       "      <td>2.6</td>\n",
       "      <td>2</td>\n",
       "      <td>0</td>\n",
       "      <td>6</td>\n",
       "      <td>...</td>\n",
       "      <td>1</td>\n",
       "      <td>0</td>\n",
       "      <td>0</td>\n",
       "      <td>0</td>\n",
       "      <td>0</td>\n",
       "      <td>0</td>\n",
       "      <td>0</td>\n",
       "      <td>0</td>\n",
       "      <td>0</td>\n",
       "      <td>0</td>\n",
       "    </tr>\n",
       "  </tbody>\n",
       "</table>\n",
       "<p>5 rows × 25 columns</p>\n",
       "</div>"
      ],
      "text/plain": [
       "     rodada      apelido atleta_id  posicao_id  clube_id  entrou_em_campo  \\\n",
       "297      15  Jean Pyerre     98832           4       284             True   \n",
       "298      15       Derlan     98945           3       315             True   \n",
       "299      15  Lucas Braga     99119           5       277             True   \n",
       "300      15      Michael     99392           5       262             True   \n",
       "301      15     Baralhas     99440           4       373             True   \n",
       "\n",
       "     pontuacao  FC  FS  PI  ...  FD  SG  CA  FT  G  PC  PS  PP  I  DP  \n",
       "297       -0.4   2   1   9  ...   0   0   0   0  0   0   0   0  0   0  \n",
       "298       -3.3   0   0   3  ...   0   0   1   0  0   1   0   0  0   0  \n",
       "299       -0.7   2   1   7  ...   0   0   0   0  0   0   0   0  1   0  \n",
       "300        1.7   0   0   3  ...   1   0   0   0  0   0   0   0  0   0  \n",
       "301        2.6   2   0   6  ...   1   0   0   0  0   0   0   0  0   0  \n",
       "\n",
       "[5 rows x 25 columns]"
      ]
     },
     "execution_count": 276,
     "metadata": {},
     "output_type": "execute_result"
    }
   ],
   "source": [
    "df = get_dataframe_atletas(15)\n",
    "df.tail()"
   ]
  },
  {
   "cell_type": "markdown",
   "id": "a0a63df9",
   "metadata": {},
   "source": [
    "## Clubes"
   ]
  },
  {
   "cell_type": "code",
   "execution_count": 228,
   "id": "73f0c8e0",
   "metadata": {},
   "outputs": [
    {
     "data": {
      "text/plain": [
       "dict_keys(['1371', '262', '264', '265', '266', '275', '276', '277', '280', '282', '284', '285', '286', '292', '293', '315', '327', '354', '356', '373'])"
      ]
     },
     "execution_count": 228,
     "metadata": {},
     "output_type": "execute_result"
    }
   ],
   "source": [
    "data = get_base_atleta(1)\n",
    "\n",
    "data['clubes'].keys()"
   ]
  },
  {
   "cell_type": "code",
   "execution_count": 229,
   "id": "4fd00bef",
   "metadata": {},
   "outputs": [
    {
     "data": {
      "text/plain": [
       "{'id': 293,\n",
       " 'nome': 'Athlético-PR',\n",
       " 'abreviacao': 'CAP',\n",
       " 'escudos': {'60x60': 'https://s.glbimg.com/es/sde/f/organizacoes/2019/09/09/Athletico-PR-65x65.png',\n",
       "  '45x45': 'https://s.glbimg.com/es/sde/f/organizacoes/2019/09/09/Athletico-PR-45x45.png',\n",
       "  '30x30': 'https://s.glbimg.com/es/sde/f/organizacoes/2019/09/09/Athletico-PR-30x30.png'},\n",
       " 'nome_fantasia': 'Athlético-PR'}"
      ]
     },
     "execution_count": 229,
     "metadata": {},
     "output_type": "execute_result"
    }
   ],
   "source": [
    "data['clubes']['293']"
   ]
  },
  {
   "cell_type": "markdown",
   "id": "1f57ff4e",
   "metadata": {},
   "source": [
    "Vamos avaliar se existe algum caso que o nome_fantasia esta diferente do nome oficial"
   ]
  },
  {
   "cell_type": "code",
   "execution_count": 231,
   "id": "06b7a50a",
   "metadata": {},
   "outputs": [
    {
     "name": "stdout",
     "output_type": "stream",
     "text": [
      "ok Cuiabá Cuiabá\n",
      "ok Flamengo Flamengo\n",
      "ok Corinthians Corinthians\n",
      "ok Bahia Bahia\n",
      "ok Fluminense Fluminense\n",
      "ok Palmeiras Palmeiras\n",
      "ok São Paulo São Paulo\n",
      "ok Santos Santos\n",
      "ok Bragantino Bragantino\n",
      "ok Atlético-MG Atlético-MG\n",
      "ok Grêmio Grêmio\n",
      "ok Internacional Internacional\n",
      "ok Juventude Juventude\n",
      "ok Sport Sport\n",
      "ok Athlético-PR Athlético-PR\n",
      "ok Chapecoense Chapecoense\n",
      "ok América-MG América-MG\n",
      "ok Ceará Ceará\n",
      "ok Fortaleza Fortaleza\n",
      "ok Atlético-GO Atlético-GO\n"
     ]
    }
   ],
   "source": [
    "lista_clubes = list(data['clubes'].keys())\n",
    "for clube in lista_clubes:\n",
    "    nome = data['clubes'][clube]['nome']\n",
    "    nome_fantasia = data['clubes'][clube]['nome_fantasia']\n",
    "    if nome != nome_fantasia:\n",
    "        print(\"nok\",nome,nome_fantasia)\n",
    "    else:\n",
    "        print(\"ok\",nome,nome_fantasia)"
   ]
  },
  {
   "cell_type": "raw",
   "id": "764d8bf8",
   "metadata": {},
   "source": [
    "Todos os nomes estão iguais aos nomes fantasia, pelo menos na rodada 1, vamos fazer uma avaliação um pouco mais afundo para podermos decidir quais informação utilizar"
   ]
  },
  {
   "cell_type": "code",
   "execution_count": 233,
   "id": "fd9d2e9d",
   "metadata": {},
   "outputs": [],
   "source": [
    "for rodada in range(1,15):\n",
    "    data = get_base_atleta(rodada)\n",
    "\n",
    "    lista_clubes = list(data['clubes'].keys())\n",
    "    for clube in lista_clubes:\n",
    "        nome = data['clubes'][clube]['nome']\n",
    "        nome_fantasia = data['clubes'][clube]['nome_fantasia']\n",
    "        if nome != nome_fantasia:\n",
    "            print(\"nok\",nome,nome_fantasia)\n",
    "        else:\n",
    "            pass\n",
    "            #print(\"ok\",nome,nome_fantasia)"
   ]
  },
  {
   "cell_type": "raw",
   "id": "4a578937",
   "metadata": {},
   "source": [
    "Vimos que nas 15 primeiras rodadas não temos nenhum caso onde o nome é diferente do nome fantasia, iremos utilziar a coluna nome só por ser menor."
   ]
  },
  {
   "cell_type": "code",
   "execution_count": 285,
   "id": "2bed01df",
   "metadata": {},
   "outputs": [],
   "source": [
    "def get_dataframe_clubes(rodada_inicial=1) -> pd.DataFrame:\n",
    "    data = get_base_atleta(rodada_inicial)\n",
    "    base = {'clube_id':[],'clube_nome':[]}\n",
    "\n",
    "    lista_clubes = list(data['clubes'].keys())\n",
    "    for clube in lista_clubes: \n",
    "        for coluna in list(base.keys()):\n",
    "            if coluna == 'clube_id':\n",
    "                base[coluna].append(data['clubes'][clube]['id'])\n",
    "            elif coluna == 'clube_nome':\n",
    "                base[coluna].append(data['clubes'][clube]['nome'])\n",
    "            else:\n",
    "                base[coluna].append(data['clubes'][clube][coluna])\n",
    "        \n",
    "    return(pd.DataFrame(base))"
   ]
  },
  {
   "cell_type": "code",
   "execution_count": 286,
   "id": "d77f7cdf",
   "metadata": {},
   "outputs": [
    {
     "data": {
      "text/html": [
       "<div>\n",
       "<style scoped>\n",
       "    .dataframe tbody tr th:only-of-type {\n",
       "        vertical-align: middle;\n",
       "    }\n",
       "\n",
       "    .dataframe tbody tr th {\n",
       "        vertical-align: top;\n",
       "    }\n",
       "\n",
       "    .dataframe thead th {\n",
       "        text-align: right;\n",
       "    }\n",
       "</style>\n",
       "<table border=\"1\" class=\"dataframe\">\n",
       "  <thead>\n",
       "    <tr style=\"text-align: right;\">\n",
       "      <th></th>\n",
       "      <th>clube_id</th>\n",
       "      <th>clube_nome</th>\n",
       "    </tr>\n",
       "  </thead>\n",
       "  <tbody>\n",
       "    <tr>\n",
       "      <th>0</th>\n",
       "      <td>1371</td>\n",
       "      <td>Cuiabá</td>\n",
       "    </tr>\n",
       "    <tr>\n",
       "      <th>1</th>\n",
       "      <td>262</td>\n",
       "      <td>Flamengo</td>\n",
       "    </tr>\n",
       "    <tr>\n",
       "      <th>2</th>\n",
       "      <td>264</td>\n",
       "      <td>Corinthians</td>\n",
       "    </tr>\n",
       "    <tr>\n",
       "      <th>3</th>\n",
       "      <td>265</td>\n",
       "      <td>Bahia</td>\n",
       "    </tr>\n",
       "    <tr>\n",
       "      <th>4</th>\n",
       "      <td>266</td>\n",
       "      <td>Fluminense</td>\n",
       "    </tr>\n",
       "  </tbody>\n",
       "</table>\n",
       "</div>"
      ],
      "text/plain": [
       "   clube_id   clube_nome\n",
       "0      1371       Cuiabá\n",
       "1       262     Flamengo\n",
       "2       264  Corinthians\n",
       "3       265        Bahia\n",
       "4       266   Fluminense"
      ]
     },
     "execution_count": 286,
     "metadata": {},
     "output_type": "execute_result"
    }
   ],
   "source": [
    "df_clubes = get_dataframe_clubes()\n",
    "df_clubes.head()"
   ]
  },
  {
   "cell_type": "markdown",
   "id": "b440b7c3",
   "metadata": {},
   "source": [
    "## Posicoes"
   ]
  },
  {
   "cell_type": "code",
   "execution_count": 246,
   "id": "ff077711",
   "metadata": {},
   "outputs": [],
   "source": [
    "data = get_base_atleta(1)"
   ]
  },
  {
   "cell_type": "code",
   "execution_count": 247,
   "id": "088f007a",
   "metadata": {},
   "outputs": [
    {
     "data": {
      "text/plain": [
       "{'1': {'id': 1, 'nome': 'Goleiro', 'abreviacao': 'gol'},\n",
       " '2': {'id': 2, 'nome': 'Lateral', 'abreviacao': 'lat'},\n",
       " '3': {'id': 3, 'nome': 'Zagueiro', 'abreviacao': 'zag'},\n",
       " '4': {'id': 4, 'nome': 'Meia', 'abreviacao': 'mei'},\n",
       " '5': {'id': 5, 'nome': 'Atacante', 'abreviacao': 'ata'},\n",
       " '6': {'id': 6, 'nome': 'Técnico', 'abreviacao': 'tec'}}"
      ]
     },
     "execution_count": 247,
     "metadata": {},
     "output_type": "execute_result"
    }
   ],
   "source": [
    "data['posicoes']"
   ]
  },
  {
   "cell_type": "code",
   "execution_count": 251,
   "id": "7a8e4cec",
   "metadata": {},
   "outputs": [
    {
     "name": "stdout",
     "output_type": "stream",
     "text": [
      "1 gol gol\n",
      "2 lat lat\n",
      "3 zag zag\n",
      "4 mei mei\n",
      "5 ata ata\n",
      "6 tec tec\n"
     ]
    }
   ],
   "source": [
    "lista_id_posicoes = list(data['posicoes'].keys())\n",
    "for id_posicao in lista_id_posicoes:\n",
    "    nome = data['posicoes'][id_posicao]['nome']\n",
    "    abreviacao = nome = data['posicoes'][id_posicao]['abreviacao']\n",
    "    print(id_posicao,nome,abreviacao)"
   ]
  },
  {
   "cell_type": "code",
   "execution_count": 283,
   "id": "8dd16310",
   "metadata": {},
   "outputs": [],
   "source": [
    "def get_dataframe_posicoes(rodada_inicial=1) -> pd.DataFrame:\n",
    "    data = get_base_atleta(rodada_inicial)\n",
    "    base = {'posicao_id':[],'posicao_nome':[],'posicao_abreviacao':[]}\n",
    "\n",
    "    lista_posicoes = list(data['posicoes'].keys())\n",
    "    for posicao in lista_posicoes: \n",
    "        for coluna in list(base.keys()):\n",
    "            if coluna == 'posicao_id':\n",
    "                base[coluna].append(data['posicoes'][posicao]['id'])\n",
    "            elif coluna == 'posicao_nome':\n",
    "                base[coluna].append(data['posicoes'][posicao]['nome'])\n",
    "            elif coluna == 'posicao_abreviacao':\n",
    "                base[coluna].append(data['posicoes'][posicao]['abreviacao'])\n",
    "            else:\n",
    "                base[coluna].append(data['posicoes'][posicao][coluna])\n",
    "        \n",
    "    return(pd.DataFrame(base))"
   ]
  },
  {
   "cell_type": "code",
   "execution_count": 284,
   "id": "b000d595",
   "metadata": {},
   "outputs": [
    {
     "data": {
      "text/html": [
       "<div>\n",
       "<style scoped>\n",
       "    .dataframe tbody tr th:only-of-type {\n",
       "        vertical-align: middle;\n",
       "    }\n",
       "\n",
       "    .dataframe tbody tr th {\n",
       "        vertical-align: top;\n",
       "    }\n",
       "\n",
       "    .dataframe thead th {\n",
       "        text-align: right;\n",
       "    }\n",
       "</style>\n",
       "<table border=\"1\" class=\"dataframe\">\n",
       "  <thead>\n",
       "    <tr style=\"text-align: right;\">\n",
       "      <th></th>\n",
       "      <th>posicao_id</th>\n",
       "      <th>posicao_nome</th>\n",
       "      <th>posicao_abreviacao</th>\n",
       "    </tr>\n",
       "  </thead>\n",
       "  <tbody>\n",
       "    <tr>\n",
       "      <th>0</th>\n",
       "      <td>1</td>\n",
       "      <td>Goleiro</td>\n",
       "      <td>gol</td>\n",
       "    </tr>\n",
       "    <tr>\n",
       "      <th>1</th>\n",
       "      <td>2</td>\n",
       "      <td>Lateral</td>\n",
       "      <td>lat</td>\n",
       "    </tr>\n",
       "    <tr>\n",
       "      <th>2</th>\n",
       "      <td>3</td>\n",
       "      <td>Zagueiro</td>\n",
       "      <td>zag</td>\n",
       "    </tr>\n",
       "    <tr>\n",
       "      <th>3</th>\n",
       "      <td>4</td>\n",
       "      <td>Meia</td>\n",
       "      <td>mei</td>\n",
       "    </tr>\n",
       "    <tr>\n",
       "      <th>4</th>\n",
       "      <td>5</td>\n",
       "      <td>Atacante</td>\n",
       "      <td>ata</td>\n",
       "    </tr>\n",
       "    <tr>\n",
       "      <th>5</th>\n",
       "      <td>6</td>\n",
       "      <td>Técnico</td>\n",
       "      <td>tec</td>\n",
       "    </tr>\n",
       "  </tbody>\n",
       "</table>\n",
       "</div>"
      ],
      "text/plain": [
       "   posicao_id posicao_nome posicao_abreviacao\n",
       "0           1      Goleiro                gol\n",
       "1           2      Lateral                lat\n",
       "2           3     Zagueiro                zag\n",
       "3           4         Meia                mei\n",
       "4           5     Atacante                ata\n",
       "5           6      Técnico                tec"
      ]
     },
     "execution_count": 284,
     "metadata": {},
     "output_type": "execute_result"
    }
   ],
   "source": [
    "df_posicoes = get_dataframe_posicoes()\n",
    "df_posicoes"
   ]
  },
  {
   "cell_type": "markdown",
   "id": "619d5dcb",
   "metadata": {},
   "source": [
    "## rodada"
   ]
  },
  {
   "cell_type": "code",
   "execution_count": 270,
   "id": "ab384f6d",
   "metadata": {},
   "outputs": [
    {
     "data": {
      "text/plain": [
       "1"
      ]
     },
     "execution_count": 270,
     "metadata": {},
     "output_type": "execute_result"
    }
   ],
   "source": [
    "data = get_base_atleta(1)\n",
    "\n",
    "data['rodada']"
   ]
  },
  {
   "cell_type": "raw",
   "id": "366a0ac2",
   "metadata": {},
   "source": [
    "\\*_*/"
   ]
  },
  {
   "cell_type": "markdown",
   "id": "ec5deeeb",
   "metadata": {},
   "source": [
    "## total_atletas"
   ]
  },
  {
   "cell_type": "code",
   "execution_count": 273,
   "id": "ccab7dea",
   "metadata": {},
   "outputs": [
    {
     "data": {
      "text/plain": [
       "330"
      ]
     },
     "execution_count": 273,
     "metadata": {},
     "output_type": "execute_result"
    }
   ],
   "source": [
    "data = get_base_atleta(1)\n",
    "\n",
    "data['total_atletas']"
   ]
  },
  {
   "cell_type": "raw",
   "id": "71be5c6b",
   "metadata": {},
   "source": [
    "Muito bom saber que o trabalho que tivemos um pouco de tempo atrás a globo já nos tinha fornecido.\n",
    "\\*_*/"
   ]
  },
  {
   "cell_type": "markdown",
   "id": "1f2cd1d1",
   "metadata": {},
   "source": [
    "## DataFrame Final"
   ]
  },
  {
   "cell_type": "code",
   "execution_count": 290,
   "id": "e916192e",
   "metadata": {},
   "outputs": [],
   "source": [
    "rodada_atual = 10\n",
    "\n",
    "df_atletas = get_dataframe_atletas(rodada_atual)\n",
    "df_clubes = get_dataframe_clubes()\n",
    "df_posicoes = get_dataframe_posicoes()"
   ]
  },
  {
   "cell_type": "code",
   "execution_count": 291,
   "id": "e90a042e",
   "metadata": {},
   "outputs": [
    {
     "data": {
      "text/plain": [
       "rodada               int64\n",
       "apelido             object\n",
       "atleta_id           object\n",
       "posicao_id           int64\n",
       "clube_id             int64\n",
       "entrou_em_campo       bool\n",
       "pontuacao          float64\n",
       "FC                   int64\n",
       "FS                   int64\n",
       "PI                   int64\n",
       "FF                   int64\n",
       "A                    int64\n",
       "DS                   int64\n",
       "DE                   int64\n",
       "GS                   int64\n",
       "FD                   int64\n",
       "SG                   int64\n",
       "CA                   int64\n",
       "FT                   int64\n",
       "G                    int64\n",
       "PC                   int64\n",
       "PS                   int64\n",
       "PP                   int64\n",
       "I                    int64\n",
       "DP                   int64\n",
       "clube_nome          object\n",
       "dtype: object"
      ]
     },
     "execution_count": 291,
     "metadata": {},
     "output_type": "execute_result"
    }
   ],
   "source": [
    "df.dtypes"
   ]
  },
  {
   "cell_type": "code",
   "execution_count": 292,
   "id": "c75d4e5c",
   "metadata": {},
   "outputs": [
    {
     "data": {
      "text/plain": [
       "clube_id       int64\n",
       "clube_nome    object\n",
       "dtype: object"
      ]
     },
     "execution_count": 292,
     "metadata": {},
     "output_type": "execute_result"
    }
   ],
   "source": [
    "df_clubes.dtypes"
   ]
  },
  {
   "cell_type": "code",
   "execution_count": 293,
   "id": "600a97b8",
   "metadata": {},
   "outputs": [
    {
     "data": {
      "text/plain": [
       "posicao_id             int64\n",
       "posicao_nome          object\n",
       "posicao_abreviacao    object\n",
       "dtype: object"
      ]
     },
     "execution_count": 293,
     "metadata": {},
     "output_type": "execute_result"
    }
   ],
   "source": [
    "df_posicoes.dtypes"
   ]
  },
  {
   "cell_type": "code",
   "execution_count": 295,
   "id": "50212a62",
   "metadata": {},
   "outputs": [
    {
     "data": {
      "text/html": [
       "<div>\n",
       "<style scoped>\n",
       "    .dataframe tbody tr th:only-of-type {\n",
       "        vertical-align: middle;\n",
       "    }\n",
       "\n",
       "    .dataframe tbody tr th {\n",
       "        vertical-align: top;\n",
       "    }\n",
       "\n",
       "    .dataframe thead th {\n",
       "        text-align: right;\n",
       "    }\n",
       "</style>\n",
       "<table border=\"1\" class=\"dataframe\">\n",
       "  <thead>\n",
       "    <tr style=\"text-align: right;\">\n",
       "      <th></th>\n",
       "      <th>rodada</th>\n",
       "      <th>apelido</th>\n",
       "      <th>atleta_id</th>\n",
       "      <th>posicao_id</th>\n",
       "      <th>clube_id</th>\n",
       "      <th>entrou_em_campo</th>\n",
       "      <th>pontuacao</th>\n",
       "      <th>FC</th>\n",
       "      <th>FS</th>\n",
       "      <th>PI</th>\n",
       "      <th>...</th>\n",
       "      <th>FT</th>\n",
       "      <th>G</th>\n",
       "      <th>PC</th>\n",
       "      <th>PS</th>\n",
       "      <th>PP</th>\n",
       "      <th>I</th>\n",
       "      <th>DP</th>\n",
       "      <th>clube_nome</th>\n",
       "      <th>posicao_nome</th>\n",
       "      <th>posicao_abreviacao</th>\n",
       "    </tr>\n",
       "  </thead>\n",
       "  <tbody>\n",
       "    <tr>\n",
       "      <th>0</th>\n",
       "      <td>10</td>\n",
       "      <td>Zaracho</td>\n",
       "      <td>100079</td>\n",
       "      <td>4</td>\n",
       "      <td>282</td>\n",
       "      <td>True</td>\n",
       "      <td>0.5</td>\n",
       "      <td>4</td>\n",
       "      <td>2</td>\n",
       "      <td>0</td>\n",
       "      <td>...</td>\n",
       "      <td>0</td>\n",
       "      <td>0</td>\n",
       "      <td>0</td>\n",
       "      <td>0</td>\n",
       "      <td>0</td>\n",
       "      <td>1</td>\n",
       "      <td>0</td>\n",
       "      <td>Atlético-MG</td>\n",
       "      <td>Meia</td>\n",
       "      <td>mei</td>\n",
       "    </tr>\n",
       "    <tr>\n",
       "      <th>1</th>\n",
       "      <td>10</td>\n",
       "      <td>Igor Gomes</td>\n",
       "      <td>100084</td>\n",
       "      <td>4</td>\n",
       "      <td>276</td>\n",
       "      <td>True</td>\n",
       "      <td>7.8</td>\n",
       "      <td>4</td>\n",
       "      <td>4</td>\n",
       "      <td>12</td>\n",
       "      <td>...</td>\n",
       "      <td>0</td>\n",
       "      <td>1</td>\n",
       "      <td>0</td>\n",
       "      <td>0</td>\n",
       "      <td>0</td>\n",
       "      <td>0</td>\n",
       "      <td>0</td>\n",
       "      <td>São Paulo</td>\n",
       "      <td>Meia</td>\n",
       "      <td>mei</td>\n",
       "    </tr>\n",
       "    <tr>\n",
       "      <th>2</th>\n",
       "      <td>10</td>\n",
       "      <td>Pedrinho</td>\n",
       "      <td>100103</td>\n",
       "      <td>5</td>\n",
       "      <td>280</td>\n",
       "      <td>True</td>\n",
       "      <td>0.4</td>\n",
       "      <td>0</td>\n",
       "      <td>1</td>\n",
       "      <td>1</td>\n",
       "      <td>...</td>\n",
       "      <td>0</td>\n",
       "      <td>0</td>\n",
       "      <td>0</td>\n",
       "      <td>0</td>\n",
       "      <td>0</td>\n",
       "      <td>0</td>\n",
       "      <td>0</td>\n",
       "      <td>Bragantino</td>\n",
       "      <td>Atacante</td>\n",
       "      <td>ata</td>\n",
       "    </tr>\n",
       "    <tr>\n",
       "      <th>3</th>\n",
       "      <td>10</td>\n",
       "      <td>Paulinho Bóia</td>\n",
       "      <td>100333</td>\n",
       "      <td>5</td>\n",
       "      <td>286</td>\n",
       "      <td>True</td>\n",
       "      <td>0.8</td>\n",
       "      <td>2</td>\n",
       "      <td>0</td>\n",
       "      <td>4</td>\n",
       "      <td>...</td>\n",
       "      <td>0</td>\n",
       "      <td>0</td>\n",
       "      <td>0</td>\n",
       "      <td>0</td>\n",
       "      <td>0</td>\n",
       "      <td>0</td>\n",
       "      <td>0</td>\n",
       "      <td>Juventude</td>\n",
       "      <td>Atacante</td>\n",
       "      <td>ata</td>\n",
       "    </tr>\n",
       "    <tr>\n",
       "      <th>4</th>\n",
       "      <td>10</td>\n",
       "      <td>Yuri Alberto</td>\n",
       "      <td>100652</td>\n",
       "      <td>5</td>\n",
       "      <td>285</td>\n",
       "      <td>True</td>\n",
       "      <td>0.6</td>\n",
       "      <td>3</td>\n",
       "      <td>4</td>\n",
       "      <td>11</td>\n",
       "      <td>...</td>\n",
       "      <td>0</td>\n",
       "      <td>0</td>\n",
       "      <td>0</td>\n",
       "      <td>0</td>\n",
       "      <td>0</td>\n",
       "      <td>0</td>\n",
       "      <td>0</td>\n",
       "      <td>Internacional</td>\n",
       "      <td>Atacante</td>\n",
       "      <td>ata</td>\n",
       "    </tr>\n",
       "  </tbody>\n",
       "</table>\n",
       "<p>5 rows × 28 columns</p>\n",
       "</div>"
      ],
      "text/plain": [
       "   rodada        apelido atleta_id  posicao_id  clube_id  entrou_em_campo  \\\n",
       "0      10        Zaracho    100079           4       282             True   \n",
       "1      10     Igor Gomes    100084           4       276             True   \n",
       "2      10       Pedrinho    100103           5       280             True   \n",
       "3      10  Paulinho Bóia    100333           5       286             True   \n",
       "4      10   Yuri Alberto    100652           5       285             True   \n",
       "\n",
       "   pontuacao  FC  FS  PI  ...  FT  G  PC  PS  PP  I  DP     clube_nome  \\\n",
       "0        0.5   4   2   0  ...   0  0   0   0   0  1   0    Atlético-MG   \n",
       "1        7.8   4   4  12  ...   0  1   0   0   0  0   0      São Paulo   \n",
       "2        0.4   0   1   1  ...   0  0   0   0   0  0   0     Bragantino   \n",
       "3        0.8   2   0   4  ...   0  0   0   0   0  0   0      Juventude   \n",
       "4        0.6   3   4  11  ...   0  0   0   0   0  0   0  Internacional   \n",
       "\n",
       "   posicao_nome  posicao_abreviacao  \n",
       "0          Meia                 mei  \n",
       "1          Meia                 mei  \n",
       "2      Atacante                 ata  \n",
       "3      Atacante                 ata  \n",
       "4      Atacante                 ata  \n",
       "\n",
       "[5 rows x 28 columns]"
      ]
     },
     "execution_count": 295,
     "metadata": {},
     "output_type": "execute_result"
    }
   ],
   "source": [
    "df_aux = pd.merge(df_atletas,df_clubes,on='clube_id',how='left')\n",
    "df = pd.merge(df_aux,df_posicoes,on = 'posicao_id',how='left')\n",
    "df.head()"
   ]
  },
  {
   "cell_type": "code",
   "execution_count": 296,
   "id": "5f9d885f",
   "metadata": {},
   "outputs": [],
   "source": [
    "def get_dataframe_rodada(rodada_atual:int) -> pd.DataFrame:\n",
    "    df_atletas = get_dataframe_atletas(rodada_atual)\n",
    "    df_clubes = get_dataframe_clubes()\n",
    "    df_posicoes = get_dataframe_posicoes()\n",
    "    df_aux = pd.merge(df_atletas,df_clubes,on='clube_id',how='left')\n",
    "    df = pd.merge(df_aux,df_posicoes,on = 'posicao_id',how='left')\n",
    "    return df"
   ]
  },
  {
   "cell_type": "code",
   "execution_count": 344,
   "id": "4f8e304d",
   "metadata": {},
   "outputs": [
    {
     "data": {
      "text/html": [
       "<div>\n",
       "<style scoped>\n",
       "    .dataframe tbody tr th:only-of-type {\n",
       "        vertical-align: middle;\n",
       "    }\n",
       "\n",
       "    .dataframe tbody tr th {\n",
       "        vertical-align: top;\n",
       "    }\n",
       "\n",
       "    .dataframe thead th {\n",
       "        text-align: right;\n",
       "    }\n",
       "</style>\n",
       "<table border=\"1\" class=\"dataframe\">\n",
       "  <thead>\n",
       "    <tr style=\"text-align: right;\">\n",
       "      <th></th>\n",
       "      <th>rodada</th>\n",
       "      <th>apelido</th>\n",
       "      <th>atleta_id</th>\n",
       "      <th>posicao_id</th>\n",
       "      <th>clube_id</th>\n",
       "      <th>entrou_em_campo</th>\n",
       "      <th>pontuacao</th>\n",
       "      <th>FC</th>\n",
       "      <th>FS</th>\n",
       "      <th>PI</th>\n",
       "      <th>...</th>\n",
       "      <th>FT</th>\n",
       "      <th>G</th>\n",
       "      <th>PC</th>\n",
       "      <th>PS</th>\n",
       "      <th>PP</th>\n",
       "      <th>I</th>\n",
       "      <th>DP</th>\n",
       "      <th>clube_nome</th>\n",
       "      <th>posicao_nome</th>\n",
       "      <th>posicao_abreviacao</th>\n",
       "    </tr>\n",
       "  </thead>\n",
       "  <tbody>\n",
       "    <tr>\n",
       "      <th>294</th>\n",
       "      <td>10</td>\n",
       "      <td>Fernando Pacheco</td>\n",
       "      <td>98740</td>\n",
       "      <td>5</td>\n",
       "      <td>286</td>\n",
       "      <td>True</td>\n",
       "      <td>0.8</td>\n",
       "      <td>0</td>\n",
       "      <td>0</td>\n",
       "      <td>0</td>\n",
       "      <td>...</td>\n",
       "      <td>0</td>\n",
       "      <td>0</td>\n",
       "      <td>0</td>\n",
       "      <td>0</td>\n",
       "      <td>0</td>\n",
       "      <td>0</td>\n",
       "      <td>0</td>\n",
       "      <td>Juventude</td>\n",
       "      <td>Atacante</td>\n",
       "      <td>ata</td>\n",
       "    </tr>\n",
       "    <tr>\n",
       "      <th>295</th>\n",
       "      <td>10</td>\n",
       "      <td>Jean Pyerre</td>\n",
       "      <td>98832</td>\n",
       "      <td>4</td>\n",
       "      <td>284</td>\n",
       "      <td>True</td>\n",
       "      <td>1.0</td>\n",
       "      <td>0</td>\n",
       "      <td>1</td>\n",
       "      <td>3</td>\n",
       "      <td>...</td>\n",
       "      <td>0</td>\n",
       "      <td>0</td>\n",
       "      <td>0</td>\n",
       "      <td>0</td>\n",
       "      <td>0</td>\n",
       "      <td>0</td>\n",
       "      <td>0</td>\n",
       "      <td>Grêmio</td>\n",
       "      <td>Meia</td>\n",
       "      <td>mei</td>\n",
       "    </tr>\n",
       "    <tr>\n",
       "      <th>296</th>\n",
       "      <td>10</td>\n",
       "      <td>Viña</td>\n",
       "      <td>98974</td>\n",
       "      <td>2</td>\n",
       "      <td>275</td>\n",
       "      <td>True</td>\n",
       "      <td>15.0</td>\n",
       "      <td>0</td>\n",
       "      <td>0</td>\n",
       "      <td>8</td>\n",
       "      <td>...</td>\n",
       "      <td>0</td>\n",
       "      <td>0</td>\n",
       "      <td>0</td>\n",
       "      <td>0</td>\n",
       "      <td>0</td>\n",
       "      <td>0</td>\n",
       "      <td>0</td>\n",
       "      <td>Palmeiras</td>\n",
       "      <td>Lateral</td>\n",
       "      <td>lat</td>\n",
       "    </tr>\n",
       "    <tr>\n",
       "      <th>297</th>\n",
       "      <td>10</td>\n",
       "      <td>Michael</td>\n",
       "      <td>99392</td>\n",
       "      <td>5</td>\n",
       "      <td>262</td>\n",
       "      <td>True</td>\n",
       "      <td>0.3</td>\n",
       "      <td>0</td>\n",
       "      <td>1</td>\n",
       "      <td>5</td>\n",
       "      <td>...</td>\n",
       "      <td>0</td>\n",
       "      <td>0</td>\n",
       "      <td>0</td>\n",
       "      <td>0</td>\n",
       "      <td>0</td>\n",
       "      <td>3</td>\n",
       "      <td>0</td>\n",
       "      <td>Flamengo</td>\n",
       "      <td>Atacante</td>\n",
       "      <td>ata</td>\n",
       "    </tr>\n",
       "    <tr>\n",
       "      <th>298</th>\n",
       "      <td>10</td>\n",
       "      <td>Baralhas</td>\n",
       "      <td>99440</td>\n",
       "      <td>4</td>\n",
       "      <td>373</td>\n",
       "      <td>True</td>\n",
       "      <td>1.7</td>\n",
       "      <td>2</td>\n",
       "      <td>0</td>\n",
       "      <td>1</td>\n",
       "      <td>...</td>\n",
       "      <td>0</td>\n",
       "      <td>0</td>\n",
       "      <td>0</td>\n",
       "      <td>0</td>\n",
       "      <td>0</td>\n",
       "      <td>0</td>\n",
       "      <td>0</td>\n",
       "      <td>Atlético-GO</td>\n",
       "      <td>Meia</td>\n",
       "      <td>mei</td>\n",
       "    </tr>\n",
       "  </tbody>\n",
       "</table>\n",
       "<p>5 rows × 28 columns</p>\n",
       "</div>"
      ],
      "text/plain": [
       "     rodada           apelido atleta_id  posicao_id  clube_id  \\\n",
       "294      10  Fernando Pacheco     98740           5       286   \n",
       "295      10       Jean Pyerre     98832           4       284   \n",
       "296      10              Viña     98974           2       275   \n",
       "297      10           Michael     99392           5       262   \n",
       "298      10          Baralhas     99440           4       373   \n",
       "\n",
       "     entrou_em_campo  pontuacao  FC  FS  PI  ...  FT  G  PC  PS  PP  I  DP  \\\n",
       "294             True        0.8   0   0   0  ...   0  0   0   0   0  0   0   \n",
       "295             True        1.0   0   1   3  ...   0  0   0   0   0  0   0   \n",
       "296             True       15.0   0   0   8  ...   0  0   0   0   0  0   0   \n",
       "297             True        0.3   0   1   5  ...   0  0   0   0   0  3   0   \n",
       "298             True        1.7   2   0   1  ...   0  0   0   0   0  0   0   \n",
       "\n",
       "      clube_nome  posicao_nome  posicao_abreviacao  \n",
       "294    Juventude      Atacante                 ata  \n",
       "295       Grêmio          Meia                 mei  \n",
       "296    Palmeiras       Lateral                 lat  \n",
       "297     Flamengo      Atacante                 ata  \n",
       "298  Atlético-GO          Meia                 mei  \n",
       "\n",
       "[5 rows x 28 columns]"
      ]
     },
     "execution_count": 344,
     "metadata": {},
     "output_type": "execute_result"
    }
   ],
   "source": [
    "df = get_dataframe_rodada(10)\n",
    "df.tail()"
   ]
  },
  {
   "cell_type": "markdown",
   "id": "67e38ccb",
   "metadata": {},
   "source": [
    "## Salvando Nossos arquivos"
   ]
  },
  {
   "cell_type": "code",
   "execution_count": 348,
   "id": "d6191f98",
   "metadata": {},
   "outputs": [],
   "source": [
    "import os\n",
    "\n",
    "def salvando_resultado(rodada_atual:int,path:str):\n",
    "    try:\n",
    "        df = get_dataframe_rodada(rodada_atual)\n",
    "        df.to_csv(f'{path}\\\\Base_Cartola_2021_rodada_{rodada_atual}.csv')\n",
    "        print(f'Base carregada para pasta: {path}, na rodada: {rodada_atual}')\n",
    "    except Exception as err:\n",
    "        print(f\"Não foi possível carregar tabela {rodada_atual}\")"
   ]
  },
  {
   "cell_type": "code",
   "execution_count": 349,
   "id": "241a712b",
   "metadata": {},
   "outputs": [],
   "source": [
    "path_data = str(f\"{os.getcwd()}\\\\data\")\n",
    "arquivos_salvos = [file for file in os.listdir(path_data) if file.endswith('csv')]\n",
    "rodadas_carregadas = []\n",
    "for arquivo in arquivos_salvos:\n",
    "    ref = arquivo[:-4]\n",
    "    rodada = ref.split(\"_\")[-1]\n",
    "    rodadas_carregadas.append(int(rodada))"
   ]
  },
  {
   "cell_type": "code",
   "execution_count": 350,
   "id": "6d03dea6",
   "metadata": {},
   "outputs": [
    {
     "name": "stdout",
     "output_type": "stream",
     "text": [
      "Base carregada para pasta: C:\\Users\\thiag\\OneDrive\\Área de Trabalho\\GitHub\\Cartola\\data, na rodada: 1\n",
      "Base carregada para pasta: C:\\Users\\thiag\\OneDrive\\Área de Trabalho\\GitHub\\Cartola\\data, na rodada: 2\n",
      "Base carregada para pasta: C:\\Users\\thiag\\OneDrive\\Área de Trabalho\\GitHub\\Cartola\\data, na rodada: 3\n",
      "Base carregada para pasta: C:\\Users\\thiag\\OneDrive\\Área de Trabalho\\GitHub\\Cartola\\data, na rodada: 4\n",
      "Base carregada para pasta: C:\\Users\\thiag\\OneDrive\\Área de Trabalho\\GitHub\\Cartola\\data, na rodada: 5\n",
      "Base carregada para pasta: C:\\Users\\thiag\\OneDrive\\Área de Trabalho\\GitHub\\Cartola\\data, na rodada: 6\n",
      "Base carregada para pasta: C:\\Users\\thiag\\OneDrive\\Área de Trabalho\\GitHub\\Cartola\\data, na rodada: 7\n",
      "Base carregada para pasta: C:\\Users\\thiag\\OneDrive\\Área de Trabalho\\GitHub\\Cartola\\data, na rodada: 8\n",
      "Base carregada para pasta: C:\\Users\\thiag\\OneDrive\\Área de Trabalho\\GitHub\\Cartola\\data, na rodada: 9\n",
      "Base carregada para pasta: C:\\Users\\thiag\\OneDrive\\Área de Trabalho\\GitHub\\Cartola\\data, na rodada: 10\n",
      "Base carregada para pasta: C:\\Users\\thiag\\OneDrive\\Área de Trabalho\\GitHub\\Cartola\\data, na rodada: 11\n",
      "Base carregada para pasta: C:\\Users\\thiag\\OneDrive\\Área de Trabalho\\GitHub\\Cartola\\data, na rodada: 12\n",
      "Base carregada para pasta: C:\\Users\\thiag\\OneDrive\\Área de Trabalho\\GitHub\\Cartola\\data, na rodada: 13\n",
      "Base carregada para pasta: C:\\Users\\thiag\\OneDrive\\Área de Trabalho\\GitHub\\Cartola\\data, na rodada: 14\n",
      "Base carregada para pasta: C:\\Users\\thiag\\OneDrive\\Área de Trabalho\\GitHub\\Cartola\\data, na rodada: 15\n",
      "Base carregada para pasta: C:\\Users\\thiag\\OneDrive\\Área de Trabalho\\GitHub\\Cartola\\data, na rodada: 16\n",
      "Base carregada para pasta: C:\\Users\\thiag\\OneDrive\\Área de Trabalho\\GitHub\\Cartola\\data, na rodada: 17\n",
      "Não foi possível carregar tabela 18\n",
      "Não foi possível carregar tabela 19\n",
      "Não foi possível carregar tabela 20\n",
      "Não foi possível carregar tabela 21\n",
      "Não foi possível carregar tabela 22\n",
      "Não foi possível carregar tabela 23\n",
      "Não foi possível carregar tabela 24\n",
      "Não foi possível carregar tabela 25\n",
      "Não foi possível carregar tabela 26\n",
      "Não foi possível carregar tabela 27\n",
      "Não foi possível carregar tabela 28\n",
      "Não foi possível carregar tabela 29\n",
      "Não foi possível carregar tabela 30\n",
      "Não foi possível carregar tabela 31\n",
      "Não foi possível carregar tabela 32\n",
      "Não foi possível carregar tabela 33\n",
      "Não foi possível carregar tabela 34\n",
      "Não foi possível carregar tabela 35\n",
      "Não foi possível carregar tabela 36\n"
     ]
    }
   ],
   "source": [
    "for rodada in range(1,37):\n",
    "    if rodada not in rodadas_carregadas:\n",
    "        try:\n",
    "            salvando_resultado(rodada,path_data)\n",
    "        except Exception as err:\n",
    "            print(err)"
   ]
  },
  {
   "cell_type": "code",
   "execution_count": null,
   "id": "92eb5338",
   "metadata": {},
   "outputs": [],
   "source": []
  }
 ],
 "metadata": {
  "kernelspec": {
   "display_name": "Python 3 (ipykernel)",
   "language": "python",
   "name": "python3"
  },
  "language_info": {
   "codemirror_mode": {
    "name": "ipython",
    "version": 3
   },
   "file_extension": ".py",
   "mimetype": "text/x-python",
   "name": "python",
   "nbconvert_exporter": "python",
   "pygments_lexer": "ipython3",
   "version": "3.9.1"
  }
 },
 "nbformat": 4,
 "nbformat_minor": 5
}
