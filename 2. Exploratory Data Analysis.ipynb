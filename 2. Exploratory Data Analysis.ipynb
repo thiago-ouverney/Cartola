{
 "cells": [
  {
   "cell_type": "markdown",
   "id": "7e58e5b7",
   "metadata": {},
   "source": [
    "# EDA"
   ]
  },
  {
   "cell_type": "markdown",
   "id": "6d5904cd",
   "metadata": {},
   "source": [
    "Neste momento, iremos buscar entender um pouco mais a base que acabamos de trazer na etapa anterior. \n",
    "\n",
    "Iremos dividir esta estapa em 2 grandes blocos, análise diretamente sobre o Cartola, análise sobre os times via base Confrontos."
   ]
  },
  {
   "cell_type": "code",
   "execution_count": 1,
   "id": "eaf8bd0c",
   "metadata": {},
   "outputs": [
    {
     "data": {
      "text/plain": [
       "'C:\\\\Users\\\\thiag\\\\OneDrive\\\\Área de Trabalho\\\\GitHub\\\\Cartola'"
      ]
     },
     "execution_count": 1,
     "metadata": {},
     "output_type": "execute_result"
    }
   ],
   "source": [
    "import os\n",
    "os.chdir(f\"{os.getcwd()}\\\\data\")"
   ]
  },
  {
   "cell_type": "code",
   "execution_count": 5,
   "id": "d623f615",
   "metadata": {},
   "outputs": [
    {
     "data": {
      "text/plain": [
       "['Base_Cartola_2021_rodada_1.csv',\n",
       " 'Base_Cartola_2021_rodada_10.csv',\n",
       " 'Base_Cartola_2021_rodada_11.csv',\n",
       " 'Base_Cartola_2021_rodada_12.csv',\n",
       " 'Base_Cartola_2021_rodada_13.csv']"
      ]
     },
     "execution_count": 5,
     "metadata": {},
     "output_type": "execute_result"
    }
   ],
   "source": [
    "os.listdir()[:5]"
   ]
  },
  {
   "cell_type": "markdown",
   "id": "20685cb9",
   "metadata": {},
   "source": [
    "## Base Cartola"
   ]
  },
  {
   "cell_type": "code",
   "execution_count": 6,
   "id": "63ca3b7c",
   "metadata": {},
   "outputs": [],
   "source": [
    "import pandas as pd\n",
    "\n",
    "df = pd.read_csv('Base_Cartola_2021_rodada_1.csv')"
   ]
  },
  {
   "cell_type": "code",
   "execution_count": 7,
   "id": "fb43ac81",
   "metadata": {},
   "outputs": [
    {
     "data": {
      "text/html": [
       "<div>\n",
       "<style scoped>\n",
       "    .dataframe tbody tr th:only-of-type {\n",
       "        vertical-align: middle;\n",
       "    }\n",
       "\n",
       "    .dataframe tbody tr th {\n",
       "        vertical-align: top;\n",
       "    }\n",
       "\n",
       "    .dataframe thead th {\n",
       "        text-align: right;\n",
       "    }\n",
       "</style>\n",
       "<table border=\"1\" class=\"dataframe\">\n",
       "  <thead>\n",
       "    <tr style=\"text-align: right;\">\n",
       "      <th></th>\n",
       "      <th>Unnamed: 0</th>\n",
       "      <th>rodada</th>\n",
       "      <th>apelido</th>\n",
       "      <th>atleta_id</th>\n",
       "      <th>posicao_id</th>\n",
       "      <th>clube_id</th>\n",
       "      <th>entrou_em_campo</th>\n",
       "      <th>pontuacao</th>\n",
       "      <th>FC</th>\n",
       "      <th>FS</th>\n",
       "      <th>...</th>\n",
       "      <th>FT</th>\n",
       "      <th>G</th>\n",
       "      <th>PC</th>\n",
       "      <th>PS</th>\n",
       "      <th>PP</th>\n",
       "      <th>I</th>\n",
       "      <th>DP</th>\n",
       "      <th>clube_nome</th>\n",
       "      <th>posicao_nome</th>\n",
       "      <th>posicao_abreviacao</th>\n",
       "    </tr>\n",
       "  </thead>\n",
       "  <tbody>\n",
       "    <tr>\n",
       "      <th>0</th>\n",
       "      <td>0</td>\n",
       "      <td>1</td>\n",
       "      <td>Zaracho</td>\n",
       "      <td>100079</td>\n",
       "      <td>4</td>\n",
       "      <td>282</td>\n",
       "      <td>True</td>\n",
       "      <td>0.0</td>\n",
       "      <td>1</td>\n",
       "      <td>1</td>\n",
       "      <td>...</td>\n",
       "      <td>0</td>\n",
       "      <td>0</td>\n",
       "      <td>0</td>\n",
       "      <td>0</td>\n",
       "      <td>0</td>\n",
       "      <td>0</td>\n",
       "      <td>0</td>\n",
       "      <td>Atlético-MG</td>\n",
       "      <td>Meia</td>\n",
       "      <td>mei</td>\n",
       "    </tr>\n",
       "    <tr>\n",
       "      <th>1</th>\n",
       "      <td>1</td>\n",
       "      <td>1</td>\n",
       "      <td>Igor Gomes</td>\n",
       "      <td>100084</td>\n",
       "      <td>4</td>\n",
       "      <td>276</td>\n",
       "      <td>True</td>\n",
       "      <td>0.2</td>\n",
       "      <td>0</td>\n",
       "      <td>1</td>\n",
       "      <td>...</td>\n",
       "      <td>0</td>\n",
       "      <td>0</td>\n",
       "      <td>0</td>\n",
       "      <td>0</td>\n",
       "      <td>0</td>\n",
       "      <td>0</td>\n",
       "      <td>0</td>\n",
       "      <td>São Paulo</td>\n",
       "      <td>Meia</td>\n",
       "      <td>mei</td>\n",
       "    </tr>\n",
       "    <tr>\n",
       "      <th>2</th>\n",
       "      <td>2</td>\n",
       "      <td>1</td>\n",
       "      <td>Pedrinho</td>\n",
       "      <td>100103</td>\n",
       "      <td>5</td>\n",
       "      <td>280</td>\n",
       "      <td>True</td>\n",
       "      <td>0.8</td>\n",
       "      <td>0</td>\n",
       "      <td>0</td>\n",
       "      <td>...</td>\n",
       "      <td>0</td>\n",
       "      <td>0</td>\n",
       "      <td>0</td>\n",
       "      <td>0</td>\n",
       "      <td>0</td>\n",
       "      <td>0</td>\n",
       "      <td>0</td>\n",
       "      <td>Bragantino</td>\n",
       "      <td>Atacante</td>\n",
       "      <td>ata</td>\n",
       "    </tr>\n",
       "    <tr>\n",
       "      <th>3</th>\n",
       "      <td>3</td>\n",
       "      <td>1</td>\n",
       "      <td>Yuri Alberto</td>\n",
       "      <td>100652</td>\n",
       "      <td>5</td>\n",
       "      <td>285</td>\n",
       "      <td>True</td>\n",
       "      <td>-0.6</td>\n",
       "      <td>2</td>\n",
       "      <td>1</td>\n",
       "      <td>...</td>\n",
       "      <td>0</td>\n",
       "      <td>0</td>\n",
       "      <td>0</td>\n",
       "      <td>0</td>\n",
       "      <td>0</td>\n",
       "      <td>0</td>\n",
       "      <td>0</td>\n",
       "      <td>Internacional</td>\n",
       "      <td>Atacante</td>\n",
       "      <td>ata</td>\n",
       "    </tr>\n",
       "    <tr>\n",
       "      <th>4</th>\n",
       "      <td>4</td>\n",
       "      <td>1</td>\n",
       "      <td>Matheus Henrique</td>\n",
       "      <td>100742</td>\n",
       "      <td>4</td>\n",
       "      <td>284</td>\n",
       "      <td>True</td>\n",
       "      <td>6.9</td>\n",
       "      <td>1</td>\n",
       "      <td>4</td>\n",
       "      <td>...</td>\n",
       "      <td>0</td>\n",
       "      <td>0</td>\n",
       "      <td>0</td>\n",
       "      <td>0</td>\n",
       "      <td>0</td>\n",
       "      <td>0</td>\n",
       "      <td>0</td>\n",
       "      <td>Grêmio</td>\n",
       "      <td>Meia</td>\n",
       "      <td>mei</td>\n",
       "    </tr>\n",
       "  </tbody>\n",
       "</table>\n",
       "<p>5 rows × 29 columns</p>\n",
       "</div>"
      ],
      "text/plain": [
       "   Unnamed: 0  rodada           apelido  atleta_id  posicao_id  clube_id  \\\n",
       "0           0       1           Zaracho     100079           4       282   \n",
       "1           1       1        Igor Gomes     100084           4       276   \n",
       "2           2       1          Pedrinho     100103           5       280   \n",
       "3           3       1      Yuri Alberto     100652           5       285   \n",
       "4           4       1  Matheus Henrique     100742           4       284   \n",
       "\n",
       "   entrou_em_campo  pontuacao  FC  FS  ...  FT  G  PC  PS  PP  I  DP  \\\n",
       "0             True        0.0   1   1  ...   0  0   0   0   0  0   0   \n",
       "1             True        0.2   0   1  ...   0  0   0   0   0  0   0   \n",
       "2             True        0.8   0   0  ...   0  0   0   0   0  0   0   \n",
       "3             True       -0.6   2   1  ...   0  0   0   0   0  0   0   \n",
       "4             True        6.9   1   4  ...   0  0   0   0   0  0   0   \n",
       "\n",
       "      clube_nome  posicao_nome  posicao_abreviacao  \n",
       "0    Atlético-MG          Meia                 mei  \n",
       "1      São Paulo          Meia                 mei  \n",
       "2     Bragantino      Atacante                 ata  \n",
       "3  Internacional      Atacante                 ata  \n",
       "4         Grêmio          Meia                 mei  \n",
       "\n",
       "[5 rows x 29 columns]"
      ]
     },
     "execution_count": 7,
     "metadata": {},
     "output_type": "execute_result"
    }
   ],
   "source": [
    "df.head()"
   ]
  },
  {
   "cell_type": "code",
   "execution_count": null,
   "id": "da7b98d3",
   "metadata": {},
   "outputs": [],
   "source": []
  }
 ],
 "metadata": {
  "kernelspec": {
   "display_name": "Python 3 (ipykernel)",
   "language": "python",
   "name": "python3"
  },
  "language_info": {
   "codemirror_mode": {
    "name": "ipython",
    "version": 3
   },
   "file_extension": ".py",
   "mimetype": "text/x-python",
   "name": "python",
   "nbconvert_exporter": "python",
   "pygments_lexer": "ipython3",
   "version": "3.9.1"
  }
 },
 "nbformat": 4,
 "nbformat_minor": 5
}
